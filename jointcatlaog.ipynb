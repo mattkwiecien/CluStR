{
 "cells": [
  {
   "cell_type": "code",
   "execution_count": null,
   "id": "bc886d69-6b9d-41f5-939b-6036d3db3703",
   "metadata": {},
   "outputs": [],
   "source": [
    "#this can be used to join 2 catalogs for a joint fit. Scaling a column is also included. "
   ]
  },
  {
   "cell_type": "code",
   "execution_count": 166,
   "id": "a6c93996-bef4-4db8-a1f3-682035bdc03c",
   "metadata": {},
   "outputs": [
    {
     "name": "stdout",
     "output_type": "stream",
     "text": [
      "The number of rows are 161.\n",
      "The number of rows are 1092.\n"
     ]
    },
    {
     "data": {
      "text/html": [
       "<i>Table length=5</i>\n",
       "<table id=\"table140035216357792\" class=\"table-striped table-bordered table-condensed\">\n",
       "<thead><tr><th>XCS_NAMES_1</th><th>XCS_NAMES_2</th><th>col1</th><th>Unnamed: 0.1</th><th>RA</th><th>DEC</th><th>Z_1</th><th>LAMBDA_CHISQ</th><th>LAMBDA_CHISQ_E</th><th>R_LAMBDA</th><th>MEM_MATCH_ID</th><th>RA_CENT</th><th>DEC_CENT</th><th>ID_CENT</th><th>DEC_xmm</th><th>DISTANCE</th><th>EXP</th><th>ID</th><th>MEDIAN_EXP</th><th>OBSID</th><th>RA_xmm</th><th>WORST_EXP</th><th>WORST_MEDIAN_EXP</th><th>RA_ext</th><th>DEC_ext</th><th>P_DIS</th><th>COUNTS</th><th>Pk2RM</th><th>Pk2RM_kpc</th><th>Pk2RM2</th><th>Pk2RM2_kpc</th><th>RA_pk</th><th>DEC_pk</th><th>pnsn</th><th>pnsnr_alt</th><th>kT</th><th>kT_m</th><th>kT_p</th><th>kT_err</th><th>Lx</th><th>Lx_m</th><th>Lx_p</th><th>Lx52</th><th>Lx52_m</th><th>Lx52_p</th><th>LAMBDA_CHISQ_E1</th></tr></thead>\n",
       "<thead><tr><th>str25</th><th>str24</th><th>int64</th><th>int64</th><th>float64</th><th>float64</th><th>float64</th><th>float64</th><th>float64</th><th>float64</th><th>int64</th><th>str89</th><th>str99</th><th>str49</th><th>float64</th><th>float64</th><th>float64</th><th>int64</th><th>float64</th><th>int64</th><th>float64</th><th>float64</th><th>float64</th><th>float64</th><th>float64</th><th>float64</th><th>float64</th><th>float64</th><th>float64</th><th>float64</th><th>float64</th><th>float64</th><th>float64</th><th>float64</th><th>float64</th><th>float64</th><th>float64</th><th>float64</th><th>float64</th><th>float64</th><th>float64</th><th>float64</th><th>float64</th><th>float64</th><th>float64</th><th>float64</th></tr></thead>\n",
       "<tr><td>XMMXCS J000235.8-020227.5</td><td>XMMXCSJ000235.8-020227.5</td><td>243</td><td>243</td><td>0.649614166660452</td><td>-2.03944174729577</td><td>0.39010683</td><td>24.808802</td><td>2.2613642</td><td>0.7566955</td><td>13751</td><td>0.649614166660452,0.647402604517322,0.650837133497822,0.655687554778573,0.660709660929633</td><td>-2.03944174729577,-2.03197828580954,-2.03145848443447,-2.04139022344033,-2.01694166950346</td><td>142501863,142502130,142502090,142502660,142501240</td><td>-2.0286111111111103</td><td>0.14756604290788675</td><td>27762.0146484375</td><td>13751</td><td>31515.4306640625</td><td>653290201</td><td>0.796875</td><td>26692.9775390625</td><td>27069.23095703125</td><td>0.64920033</td><td>-2.0409846000000003</td><td>30.425720743968988</td><td>680.99361</td><td>0.04458284358593551</td><td>14.153533136494243</td><td>0.04458284358593551</td><td>14.153533136494234</td><td>0.6499766469275086</td><td>-2.040090510689373</td><td>17.222</td><td>16.33</td><td>2.14291</td><td>0.1664257210000002</td><td>0.3757072909999999</td><td>0.12649458260029586</td><td>0.4179751767</td><td>0.027991681182347072</td><td>0.02890672672743194</td><td>0.1734770535</td><td>0.007915371603489152</td><td>0.010480165454349183</td><td>2.2613642</td></tr>\n",
       "<tr><td>XMMXCS J000400.2-355653.6</td><td>XMMXCSJ000400.2-355653.6</td><td>248</td><td>248</td><td>1.00104699302456</td><td>-35.9478493979938</td><td>0.51813245</td><td>27.447912</td><td>2.398124</td><td>0.77215034</td><td>15193</td><td>1.00104699302456,1.00496334329385,1.00006235952776,1.00220768606892,0.991459040649254</td><td>-35.9478493979938,-35.9721189810189,-35.9503624329606,-35.9714384684201,-35.9488692491967</td><td>142401587,142402656,142401775,142402605,142401731</td><td>-35.9550555555556</td><td>0.13696826958557765</td><td>44896.494140625</td><td>15193</td><td>46655.4189453125</td><td>145020201</td><td>0.832083333333333</td><td>37725.16796875</td><td>39750.76171875</td><td>1.0010573</td><td>-35.948244</td><td>8.83761472448519</td><td>1153.8677</td><td>0.13721923416480866</td><td>51.20854620553784</td><td>0.13721923416480866</td><td>51.208546205537864</td><td>1.002997438367125</td><td>-35.94950383602284</td><td>22.3303</td><td>20.8108</td><td>3.42241</td><td>0.2941954530000004</td><td>0.381135821</td><td>0.09866311663418473</td><td>1.075204042</td><td>0.06172810768921333</td><td>0.051566316665137</td><td>0.3778939892</td><td>0.014460817597852449</td><td>0.015481156442907651</td><td>2.398124</td></tr>\n",
       "<tr><td>XMMXCS J001737.5-005234.2</td><td>XMMXCSJ001737.5-005234.2</td><td>73</td><td>73</td><td>4.40665775875568</td><td>-0.8782889047076321</td><td>0.20821463</td><td>61.80211600000001</td><td>2.7435331</td><td>0.9082401</td><td>500</td><td>4.40665775875568,4.4036478772821,4.41369820128273,4.43197222196143,4.42113577173195</td><td>-0.878288904707632,-0.853717099179728,-0.870237504031457,-0.867241148525203,-0.872233093568332</td><td>189078380,189077757,189078763,189078751,189078964</td><td>-0.923666666666667</td><td>0.07715508173656564</td><td>51380.166015625</td><td>500</td><td>51384.4873046875</td><td>403760701</td><td>4.34425</td><td>33254.130859375</td><td>40512.3388671875</td><td>4.4063253</td><td>-0.87619162</td><td>26.028173154787265</td><td>12189.1</td><td>0.07743152147596767</td><td>15.818489529702676</td><td>0.07743152147596767</td><td>15.818489529702742</td><td>4.406493390460635</td><td>-0.8795689223325999</td><td>55.7922</td><td>52.5696</td><td>4.17565</td><td>0.10585596800000019</td><td>0.10677553100000026</td><td>0.02546088620933273</td><td>1.770299475</td><td>0.02862182248558387</td><td>0.02736854278286338</td><td>0.5694802411</td><td>0.005413722467445425</td><td>0.005881083050004232</td><td>2.7435331</td></tr>\n",
       "<tr><td>XMMXCS J001938.0+033635.3</td><td>XMMXCSJ001938.0-033635.3</td><td>9</td><td>9</td><td>4.91105595050762</td><td>3.59932929627596</td><td>0.27425575</td><td>139.48044</td><td>4.365691</td><td>1.0688154</td><td>17</td><td>4.91105595050762,4.90685473048909,4.90917120339313,4.90346134559408,4.90720740015353</td><td>3.59932929627596,3.6302137316629,3.60703825786776,3.62043694963565,3.6294193326428</td><td>143999329,143998825,144000405,143999694,143998953</td><td>3.62888888888889</td><td>0.041495948958367695</td><td>57541.447265625</td><td>17</td><td>66652.734375</td><td>693010301</td><td>4.881875</td><td>56180.8046875</td><td>57458.4189453125</td><td>4.9083898</td><td>3.6098177000000002</td><td>162.90251264384614</td><td>58596.613</td><td>0.3775585070541489</td><td>94.73417637364768</td><td>0.3775585070541489</td><td>94.73417637364797</td><td>4.909123355579328</td><td>3.6053190510251065</td><td>106.246</td><td>99.3671</td><td>6.79351</td><td>0.0854978880000008</td><td>0.15795316999999987</td><td>0.01791791415630511</td><td>14.07220846</td><td>0.10561611126274606</td><td>0.11021468486474184</td><td>3.525604208</td><td>0.014009824121890002</td><td>0.014984539787388673</td><td>4.365691</td></tr>\n",
       "<tr><td>XMMXCS J003426.9+022523.1</td><td>XMMXCSJ003426.9-022523.1</td><td>54</td><td>54</td><td>8.617306115181039</td><td>2.42297542109954</td><td>0.39933878</td><td>100.22939</td><td>5.156016</td><td>1.0004584</td><td>225</td><td>8.61730611518104,8.59970713293835,8.60820711481422,8.61788284582858,8.61606528000696</td><td>2.42297542109954,2.42787903634968,2.42368570515617,2.42484257874229,2.43115426148755</td><td>149433688,149433437,149433860,149433803,149433508</td><td>2.4046111111111097</td><td>0.02969840521181868</td><td>8515.85986328125</td><td>225</td><td>8782.978271484375</td><td>650380501</td><td>8.64066666666667</td><td>8143.255615234375</td><td>8152.537109375</td><td>8.6122306</td><td>2.4231047</td><td>98.01873607348259</td><td>4203.6381</td><td>0.23603755945502114</td><td>76.01621064465722</td><td>0.23603755945502114</td><td>76.01621064465772</td><td>8.613461797305439</td><td>2.4221247386307145</td><td>28.6338</td><td>26.816</td><td>6.15498</td><td>0.4393842809999997</td><td>0.44781691000000023</td><td>0.07207181753636892</td><td>15.15213221</td><td>0.6839854826560412</td><td>0.5750398774703829</td><td>4.01056185</td><td>0.08875946543654978</td><td>0.08950954748167916</td><td>5.156016</td></tr>\n",
       "</table>"
      ],
      "text/plain": [
       "<Table length=5>\n",
       "       XCS_NAMES_1              XCS_NAMES_2        ... LAMBDA_CHISQ_E1\n",
       "          str25                    str24           ...     float64    \n",
       "------------------------- ------------------------ ... ---------------\n",
       "XMMXCS J000235.8-020227.5 XMMXCSJ000235.8-020227.5 ...       2.2613642\n",
       "XMMXCS J000400.2-355653.6 XMMXCSJ000400.2-355653.6 ...        2.398124\n",
       "XMMXCS J001737.5-005234.2 XMMXCSJ001737.5-005234.2 ...       2.7435331\n",
       "XMMXCS J001938.0+033635.3 XMMXCSJ001938.0-033635.3 ...        4.365691\n",
       "XMMXCS J003426.9+022523.1 XMMXCSJ003426.9-022523.1 ...        5.156016"
      ]
     },
     "execution_count": 166,
     "metadata": {},
     "output_type": "execute_result"
    }
   ],
   "source": [
    "import numpy as np\n",
    "from astropy.table import Table, join, vstack\n",
    "#open 2 files to join\n",
    "file_matcha = \"\"\n",
    "file_xmm = \"\"\n",
    "catalog_matcha = Table.read(file_matcha)\n",
    "catalog_xmm = Table.read(file_xmm)\n",
    "\n",
    "\n",
    "print(f\"The number of columns in `catalog_matcha` are {len(catalog_matcha.colnames)}\")\n",
    "print(f\"The number of rows in catalog_matcha are {len(catalog_matcha)}.\")\n",
    "print(f\"The number of rows are in catalog_xmm are {len(catalog_xmm)}.\")\n",
    "\n",
    "catalog_xmm[0:5]"
   ]
  },
  {
   "cell_type": "code",
   "execution_count": 167,
   "id": "3327857a-97a4-4d2e-a3c7-c4f178cf00ca",
   "metadata": {},
   "outputs": [
    {
     "name": "stdout",
     "output_type": "stream",
     "text": [
      "The number of columns are 124\n",
      "The number of rows are 64.\n"
     ]
    },
    {
     "data": {
      "text/html": [
       "<i>Table length=5</i>\n",
       "<table id=\"table140035214573184\" class=\"table-striped table-bordered table-condensed\">\n",
       "<thead><tr><th>XCS_NAMES_1</th><th>XCS_NAMES_2</th><th>col1</th><th>Unnamed: 0.1</th><th>RA</th><th>DEC</th><th>Z_1</th><th>LAMBDA_CHISQ</th><th>LAMBDA_CHISQ_E</th><th>R_LAMBDA</th><th>MEM_MATCH_ID</th><th>RA_CENT</th><th>DEC_CENT</th><th>ID_CENT</th><th>DEC_xmm</th><th>DISTANCE</th><th>EXP</th><th>ID</th><th>MEDIAN_EXP</th><th>OBSID</th><th>RA_xmm</th><th>WORST_EXP</th><th>WORST_MEDIAN_EXP</th><th>RA_ext</th><th>DEC_ext</th><th>P_DIS</th><th>COUNTS</th><th>Pk2RM</th><th>Pk2RM_kpc</th><th>Pk2RM2</th><th>Pk2RM2_kpc</th><th>RA_pk</th><th>DEC_pk</th><th>pnsn</th><th>pnsnr_alt</th><th>kT</th><th>kT_m</th><th>kT_p</th><th>kT_err</th><th>Lx</th><th>Lx_m</th><th>Lx_p</th><th>Lx52</th><th>Lx52_m</th><th>Lx52_p</th><th>LAMBDA_CHISQ_E1</th></tr></thead>\n",
       "<thead><tr><th>str25</th><th>str24</th><th>int64</th><th>int64</th><th>float64</th><th>float64</th><th>float64</th><th>float64</th><th>float64</th><th>float64</th><th>int64</th><th>str89</th><th>str99</th><th>str49</th><th>float64</th><th>float64</th><th>float64</th><th>int64</th><th>float64</th><th>int64</th><th>float64</th><th>float64</th><th>float64</th><th>float64</th><th>float64</th><th>float64</th><th>float64</th><th>float64</th><th>float64</th><th>float64</th><th>float64</th><th>float64</th><th>float64</th><th>float64</th><th>float64</th><th>float64</th><th>float64</th><th>float64</th><th>float64</th><th>float64</th><th>float64</th><th>float64</th><th>float64</th><th>float64</th><th>float64</th><th>float64</th></tr></thead>\n",
       "<tr><td>XMMXCS J000235.8-020227.5</td><td>XMMXCSJ000235.8-020227.5</td><td>243</td><td>243</td><td>0.649614166660452</td><td>-2.03944174729577</td><td>0.39010683</td><td>24.808802</td><td>2.2613642</td><td>0.7566955</td><td>13751</td><td>0.649614166660452,0.647402604517322,0.650837133497822,0.655687554778573,0.660709660929633</td><td>-2.03944174729577,-2.03197828580954,-2.03145848443447,-2.04139022344033,-2.01694166950346</td><td>142501863,142502130,142502090,142502660,142501240</td><td>-2.0286111111111103</td><td>0.14756604290788675</td><td>27762.0146484375</td><td>13751</td><td>31515.4306640625</td><td>653290201</td><td>0.796875</td><td>26692.9775390625</td><td>27069.23095703125</td><td>0.64920033</td><td>-2.0409846000000003</td><td>30.425720743968988</td><td>680.99361</td><td>0.04458284358593551</td><td>14.153533136494243</td><td>0.04458284358593551</td><td>14.153533136494234</td><td>0.6499766469275086</td><td>-2.040090510689373</td><td>17.222</td><td>16.33</td><td>2.14291</td><td>0.1664257210000002</td><td>0.3757072909999999</td><td>0.12649458260029586</td><td>0.4179751767</td><td>0.027991681182347072</td><td>0.02890672672743194</td><td>0.1734770535</td><td>0.007915371603489152</td><td>0.010480165454349183</td><td>2.2613642</td></tr>\n",
       "<tr><td>XMMXCS J000400.2-355653.6</td><td>XMMXCSJ000400.2-355653.6</td><td>248</td><td>248</td><td>1.00104699302456</td><td>-35.9478493979938</td><td>0.51813245</td><td>27.447912</td><td>2.398124</td><td>0.77215034</td><td>15193</td><td>1.00104699302456,1.00496334329385,1.00006235952776,1.00220768606892,0.991459040649254</td><td>-35.9478493979938,-35.9721189810189,-35.9503624329606,-35.9714384684201,-35.9488692491967</td><td>142401587,142402656,142401775,142402605,142401731</td><td>-35.9550555555556</td><td>0.13696826958557765</td><td>44896.494140625</td><td>15193</td><td>46655.4189453125</td><td>145020201</td><td>0.832083333333333</td><td>37725.16796875</td><td>39750.76171875</td><td>1.0010573</td><td>-35.948244</td><td>8.83761472448519</td><td>1153.8677</td><td>0.13721923416480866</td><td>51.20854620553784</td><td>0.13721923416480866</td><td>51.208546205537864</td><td>1.002997438367125</td><td>-35.94950383602284</td><td>22.3303</td><td>20.8108</td><td>3.42241</td><td>0.2941954530000004</td><td>0.381135821</td><td>0.09866311663418473</td><td>1.075204042</td><td>0.06172810768921333</td><td>0.051566316665137</td><td>0.3778939892</td><td>0.014460817597852449</td><td>0.015481156442907651</td><td>2.398124</td></tr>\n",
       "<tr><td>XMMXCS J001737.5-005234.2</td><td>XMMXCSJ001737.5-005234.2</td><td>73</td><td>73</td><td>4.40665775875568</td><td>-0.8782889047076321</td><td>0.20821463</td><td>61.80211600000001</td><td>2.7435331</td><td>0.9082401</td><td>500</td><td>4.40665775875568,4.4036478772821,4.41369820128273,4.43197222196143,4.42113577173195</td><td>-0.878288904707632,-0.853717099179728,-0.870237504031457,-0.867241148525203,-0.872233093568332</td><td>189078380,189077757,189078763,189078751,189078964</td><td>-0.923666666666667</td><td>0.07715508173656564</td><td>51380.166015625</td><td>500</td><td>51384.4873046875</td><td>403760701</td><td>4.34425</td><td>33254.130859375</td><td>40512.3388671875</td><td>4.4063253</td><td>-0.87619162</td><td>26.028173154787265</td><td>12189.1</td><td>0.07743152147596767</td><td>15.818489529702676</td><td>0.07743152147596767</td><td>15.818489529702742</td><td>4.406493390460635</td><td>-0.8795689223325999</td><td>55.7922</td><td>52.5696</td><td>4.17565</td><td>0.10585596800000019</td><td>0.10677553100000026</td><td>0.02546088620933273</td><td>1.770299475</td><td>0.02862182248558387</td><td>0.02736854278286338</td><td>0.5694802411</td><td>0.005413722467445425</td><td>0.005881083050004232</td><td>2.7435331</td></tr>\n",
       "<tr><td>XMMXCS J001938.0+033635.3</td><td>XMMXCSJ001938.0-033635.3</td><td>9</td><td>9</td><td>4.91105595050762</td><td>3.59932929627596</td><td>0.27425575</td><td>139.48044</td><td>4.365691</td><td>1.0688154</td><td>17</td><td>4.91105595050762,4.90685473048909,4.90917120339313,4.90346134559408,4.90720740015353</td><td>3.59932929627596,3.6302137316629,3.60703825786776,3.62043694963565,3.6294193326428</td><td>143999329,143998825,144000405,143999694,143998953</td><td>3.62888888888889</td><td>0.041495948958367695</td><td>57541.447265625</td><td>17</td><td>66652.734375</td><td>693010301</td><td>4.881875</td><td>56180.8046875</td><td>57458.4189453125</td><td>4.9083898</td><td>3.6098177000000002</td><td>162.90251264384614</td><td>58596.613</td><td>0.3775585070541489</td><td>94.73417637364768</td><td>0.3775585070541489</td><td>94.73417637364797</td><td>4.909123355579328</td><td>3.6053190510251065</td><td>106.246</td><td>99.3671</td><td>6.79351</td><td>0.0854978880000008</td><td>0.15795316999999987</td><td>0.01791791415630511</td><td>14.07220846</td><td>0.10561611126274606</td><td>0.11021468486474184</td><td>3.525604208</td><td>0.014009824121890002</td><td>0.014984539787388673</td><td>4.365691</td></tr>\n",
       "<tr><td>XMMXCS J003426.9+022523.1</td><td>XMMXCSJ003426.9-022523.1</td><td>54</td><td>54</td><td>8.617306115181039</td><td>2.42297542109954</td><td>0.39933878</td><td>100.22939</td><td>5.156016</td><td>1.0004584</td><td>225</td><td>8.61730611518104,8.59970713293835,8.60820711481422,8.61788284582858,8.61606528000696</td><td>2.42297542109954,2.42787903634968,2.42368570515617,2.42484257874229,2.43115426148755</td><td>149433688,149433437,149433860,149433803,149433508</td><td>2.4046111111111097</td><td>0.02969840521181868</td><td>8515.85986328125</td><td>225</td><td>8782.978271484375</td><td>650380501</td><td>8.64066666666667</td><td>8143.255615234375</td><td>8152.537109375</td><td>8.6122306</td><td>2.4231047</td><td>98.01873607348259</td><td>4203.6381</td><td>0.23603755945502114</td><td>76.01621064465722</td><td>0.23603755945502114</td><td>76.01621064465772</td><td>8.613461797305439</td><td>2.4221247386307145</td><td>28.6338</td><td>26.816</td><td>6.15498</td><td>0.4393842809999997</td><td>0.44781691000000023</td><td>0.07207181753636892</td><td>15.15213221</td><td>0.6839854826560412</td><td>0.5750398774703829</td><td>4.01056185</td><td>0.08875946543654978</td><td>0.08950954748167916</td><td>5.156016</td></tr>\n",
       "</table>"
      ],
      "text/plain": [
       "<Table length=5>\n",
       "       XCS_NAMES_1              XCS_NAMES_2        ... LAMBDA_CHISQ_E1\n",
       "          str25                    str24           ...     float64    \n",
       "------------------------- ------------------------ ... ---------------\n",
       "XMMXCS J000235.8-020227.5 XMMXCSJ000235.8-020227.5 ...       2.2613642\n",
       "XMMXCS J000400.2-355653.6 XMMXCSJ000400.2-355653.6 ...        2.398124\n",
       "XMMXCS J001737.5-005234.2 XMMXCSJ001737.5-005234.2 ...       2.7435331\n",
       "XMMXCS J001938.0+033635.3 XMMXCSJ001938.0-033635.3 ...        4.365691\n",
       "XMMXCS J003426.9+022523.1 XMMXCSJ003426.9-022523.1 ...        5.156016"
      ]
     },
     "execution_count": 167,
     "metadata": {},
     "output_type": "execute_result"
    }
   ],
   "source": [
    "#column names must be identical to join the two catalogs with this method. Any \"unmatched\" columns will not be included in the final joint catalog. \n",
    "#make required cuts (instead of using CluStR to make cuts) for flags that are not present in both catalogs.\n",
    "#An alternative method would be to add columns to the catalogs to have all matching flags, then run it through CluStR. \n",
    "\n",
    "#General flags used.\n",
    "\n",
    "catalog_matcha2 = catalog_matcha[catalog_matcha['bad_mode'] == False]\n",
    "#CluStR will automatically delete nans, but it can be useful to do before so you know how many clusters come from each catalog\n",
    "catalog_matcha3 = catalog_matcha2[~np.isnan(catalog_matcha2[\"r2500_temperature_scaled\"])]\n",
    "catalog_matcha4 = catalog_matcha3[catalog_matcha3['edge_r2500'] == False]\n",
    "catalog_matcha5 = catalog_matcha4[catalog_matcha4['edge_bkgd'] == False]\n",
    "catalog_matcha6 = catalog_matcha5[catalog_matcha5['masked'] == False]\n",
    "catalog_matcha7 = catalog_matcha6[catalog_matcha6['overlap_r500'] == False]\n",
    "catalog_matcha8 = catalog_matcha7[catalog_matcha7['overlap_r2500'] == False]\n",
    "catalog_matcha9 = catalog_matcha8[catalog_matcha8['overlap_bkgd'] == False]\n",
    "catalog_matcha10 = catalog_matcha9[catalog_matcha9['500_kiloparsecs_SNR'] > 9.0]\n",
    "catalog_matcha11 = catalog_matcha10[catalog_matcha10['Redshift'] > 0.2]\n",
    "catalog_matcha12 = catalog_matcha11[catalog_matcha11['Redshift'] < 0.65]\n",
    "#don't forget to delete repeat clusters. \n",
    "#Sometimes the catalogs don't have the same column name for MEM_MATCH_ID, so the column name in one of the catalogs needs to be renamed first to match.\n",
    "#Edit to rename if needed: \n",
    "#catalog_xmm['MEM'].name = \"MEM_MATCH_ID\"\n",
    "#make a column for repeats. \n",
    "catalog_matcha['repeat'] = np.isin(catalog_matcha['MEM_MATCH_ID'], catalog_xmm['MEM_MATCH_ID'])\n",
    "#delete repeats\n",
    "catalog_matcha13 = catalog_matcha12[catalog_matcha12['repeat'] == False]\n",
    "\n",
    "#amount of clusters left after cuts. Make sure to use new catalog name that with the cut clusters. \n",
    "print(f\"The number of columns are {len(catalog_matcha13.colnames)}\")\n",
    "print(f\"The number of rows are {len(catalog_matcha13)}.\")\n",
    "catalog_matcha13[0:3]\n",
    "\n",
    "#repeat this for second catalog if it needs any cuts\n"
   ]
  },
  {
   "cell_type": "code",
   "execution_count": 168,
   "id": "a8356df9-da02-4ec7-b25f-7c0e62d86953",
   "metadata": {},
   "outputs": [
    {
     "data": {
      "text/html": [
       "<i>Table length=5</i>\n",
       "<table id=\"table140035216359328\" class=\"table-striped table-bordered table-condensed\">\n",
       "<thead><tr><th>Name</th><th>MEM_MATCH_ID</th><th>Analyzed</th><th>Detected</th><th>redMaPPer_ra</th><th>redMaPPer_dec</th><th>Redshift</th><th>Obsids</th><th>lambda</th><th>lambda_err_low</th><th>lambda_err_high</th><th>band_lumin_upper_lim_undetected</th><th>band_lumin_upper_lim_detected</th><th>lumin_no_tx</th><th>lumin_no_tx_err_low</th><th>lumin_no_tx_err_high</th><th>x_ray_peak_ra</th><th>x_ray_peak_dec</th><th>500_kiloparsecs_ra</th><th>500_kiloparsecs_dec</th><th>500_kiloparsecs_temperature</th><th>500_kiloparsecs_temperature_err_low</th><th>500_kiloparsecs_temperature_err_high</th><th>500_kiloparsecs_band_lumin</th><th>500_kiloparsecs_band_lumin_err_low</th><th>500_kiloparsecs_band_lumin_err_high</th><th>500_kiloparsecs_bolo_lumin</th><th>500_kiloparsecs_bolo_lumin_err_low</th><th>500_kiloparsecs_bolo_lumin_err_high</th><th>500_kiloparsecs_radius</th><th>500_kiloparsecs_radius_err_low</th><th>500_kiloparsecs_radius_err_high</th><th>500_kiloparsecs_SNR</th><th>500_kiloparsecs_SNR_err_low</th><th>500_kiloparsecs_SNR_err_high</th><th>r2500_ra</th><th>r2500_dec</th><th>r2500_temperature</th><th>r2500_temperature_err_low</th><th>r2500_temperature_err_high</th><th>r2500_band_lumin</th><th>r2500_band_lumin_err_low</th><th>r2500_band_lumin_err_high</th><th>r2500_bolo_lumin</th><th>r2500_bolo_lumin_err_low</th><th>r2500_bolo_lumin_err_high</th><th>r2500_radius</th><th>r2500_radius_err_low</th><th>r2500_radius_err_high</th><th>r2500_SNR</th><th>r2500_SNR_err_low</th><th>r2500_SNR_err_high</th><th>r500_ra</th><th>r500_dec</th><th>r500_temperature</th><th>r500_temperature_err_low</th><th>r500_temperature_err_high</th><th>r500_band_lumin</th><th>r500_band_lumin_err_low</th><th>r500_band_lumin_err_high</th><th>r500_bolo_lumin</th><th>r500_bolo_lumin_err_low</th><th>r500_bolo_lumin_err_high</th><th>r500_radius</th><th>r500_radius_err_low</th><th>r500_radius_err_high</th><th>r500_SNR</th><th>r500_SNR_err_low</th><th>r500_SNR_err_high</th><th>r500_core_cropped_ra</th><th>r500_core_cropped_dec</th><th>r500_core_cropped_temperature</th><th>r500_core_cropped_temperature_err_low</th><th>r500_core_cropped_temperature_err_high</th><th>r500_core_cropped_band_lumin</th><th>r500_core_cropped_band_lumin_err_low</th><th>r500_core_cropped_band_lumin_err_high</th><th>r500_core_cropped_bolo_lumin</th><th>r500_core_cropped_bolo_lumin_err_low</th><th>r500_core_cropped_bolo_lumin_err_high</th><th>r500_core_cropped_radius</th><th>r500_core_cropped_radius_err_low</th><th>r500_core_cropped_radius_err_high</th><th>r500_core_cropped_SNR</th><th>r500_core_cropped_SNR_err_low</th><th>r500_core_cropped_SNR_err_high</th><th>peak_fix</th><th>masked</th><th>bad_mode</th><th>quick look bad</th><th>obsid_bad</th><th>merger</th><th>Serendipitous</th><th>edge_centroid</th><th>edge_peak</th><th>edge_r2500</th><th>edge_r500</th><th>edge_bkgd</th><th>overlap_r2500</th><th>overlap_r500</th><th>overlap_bkgd</th><th>notes</th><th>Group 1 Check</th><th>redmapper wrong</th><th>right RA</th><th>right DEC</th><th>right in top 5</th><th>right not member</th><th>ambiguous</th><th>Chandra Notes</th><th>isin_Vol_Lim</th><th>Tx_r2500_in_xmm</th><th>Tx_r500_in_xmm</th><th>lambda_xray</th><th>lambda_xray_err</th><th>err_upper_lim</th><th>err_lower_lim</th><th>r500_temperature_scaled</th><th>r2500_temperature_scaled</th><th>err_lower_lim_scaled</th><th>err_upper_lim_scaled</th><th>r2500_temperature_err_low_scaled</th><th>r2500_temperature_err_high_scaled</th><th>in_xmm</th></tr></thead>\n",
       "<thead><tr><th>bytes15</th><th>int64</th><th>bool</th><th>bool</th><th>float64</th><th>float64</th><th>float64</th><th>bytes96</th><th>float64</th><th>float64</th><th>float64</th><th>float64</th><th>float64</th><th>float64</th><th>float64</th><th>float64</th><th>float64</th><th>float64</th><th>float64</th><th>float64</th><th>float64</th><th>float64</th><th>float64</th><th>float64</th><th>float64</th><th>float64</th><th>float64</th><th>float64</th><th>float64</th><th>float64</th><th>float64</th><th>float64</th><th>float64</th><th>float64</th><th>float64</th><th>float64</th><th>float64</th><th>float64</th><th>float64</th><th>float64</th><th>float64</th><th>float64</th><th>float64</th><th>float64</th><th>float64</th><th>float64</th><th>float64</th><th>float64</th><th>float64</th><th>float64</th><th>float64</th><th>float64</th><th>float64</th><th>float64</th><th>float64</th><th>float64</th><th>float64</th><th>float64</th><th>float64</th><th>float64</th><th>float64</th><th>float64</th><th>float64</th><th>float64</th><th>float64</th><th>float64</th><th>float64</th><th>float64</th><th>float64</th><th>float64</th><th>float64</th><th>float64</th><th>float64</th><th>float64</th><th>float64</th><th>float64</th><th>float64</th><th>float64</th><th>float64</th><th>float64</th><th>float64</th><th>float64</th><th>float64</th><th>float64</th><th>float64</th><th>float64</th><th>bytes4</th><th>int64</th><th>int64</th><th>bytes4</th><th>bytes26</th><th>int64</th><th>int64</th><th>int64</th><th>int64</th><th>int64</th><th>int64</th><th>int64</th><th>int64</th><th>int64</th><th>int64</th><th>bytes106</th><th>bytes14</th><th>int64</th><th>float64</th><th>float64</th><th>int64</th><th>int64</th><th>int64</th><th>bytes145</th><th>int64</th><th>int64</th><th>int64</th><th>float64</th><th>float64</th><th>float64</th><th>float64</th><th>float64</th><th>float64</th><th>float64</th><th>float64</th><th>float64</th><th>float64</th><th>bool</th></tr></thead>\n",
       "<tr><td>catalogue_5</td><td>6</td><td>True</td><td>True</td><td>62.795693300108</td><td>-48.3276790985298</td><td>0.41268131136894226</td><td>13396, 16355, 17536</td><td>178.045</td><td>5.02932</td><td>5.02932</td><td>nan</td><td>nan</td><td>3.4004e+44</td><td>4.21e+42</td><td>4.2213e+42</td><td>62.81658</td><td>-48.313133</td><td>62.810727</td><td>-48.320797</td><td>7.0575</td><td>0.33725</td><td>0.34416</td><td>3.478e+44</td><td>6.3701e+42</td><td>6.4097e+42</td><td>1.1605e+45</td><td>1.992e+43</td><td>2.0003e+43</td><td>500.0</td><td>0.0</td><td>0.0</td><td>78.698</td><td>1.0662</td><td>1.0662</td><td>62.810923</td><td>-48.320617</td><td>7.1066</td><td>0.31181</td><td>0.31834</td><td>3.5549e+44</td><td>6.1126e+42</td><td>6.1496e+42</td><td>1.1905e+45</td><td>1.8811e+43</td><td>1.8914e+43</td><td>478.99</td><td>12.956</td><td>12.943</td><td>84.785</td><td>1.0874</td><td>1.0874</td><td>62.811077</td><td>-48.32109</td><td>nan</td><td>nan</td><td>nan</td><td>4.4344e+44</td><td>7.9216e+42</td><td>8.0348e+42</td><td>1.4929e+45</td><td>2.8495e+43</td><td>2.8093e+43</td><td>1085.0</td><td>27.397</td><td>27.442</td><td>nan</td><td>nan</td><td>nan</td><td>nan</td><td>nan</td><td>nan</td><td>nan</td><td>nan</td><td>nan</td><td>nan</td><td>nan</td><td>nan</td><td>nan</td><td>nan</td><td>nan</td><td>nan</td><td>nan</td><td>nan</td><td>nan</td><td>nan</td><td>N/A</td><td>0</td><td>0</td><td>N/A</td><td>N/A</td><td>1</td><td>0</td><td>0</td><td>0</td><td>0</td><td>0</td><td>0</td><td>0</td><td>0</td><td>0</td><td>only r2500</td><td>yes</td><td>0</td><td>9999.0</td><td>9999.0</td><td>0</td><td>0</td><td>1</td><td>red picks one substr and peak the other, central of second peak is second most likely for red</td><td>1</td><td>0</td><td>0</td><td>176.33645629882812</td><td>4.878486633300781</td><td>7.42494</td><td>6.79479</td><td>nan</td><td>5.524328691266786</td><td>5.299526560348871</td><td>5.753086160804895</td><td>0.22480213091791512</td><td>0.2287574695381096</td><td>False</td></tr>\n",
       "<tr><td>catalogue_6</td><td>7</td><td>True</td><td>True</td><td>351.298842943216</td><td>-41.2037028994831</td><td>0.3579254150390625</td><td>13405, 19774</td><td>176.001</td><td>4.71629</td><td>4.71629</td><td>nan</td><td>nan</td><td>2.3886e+44</td><td>5.8994e+42</td><td>5.9973e+42</td><td>351.29947</td><td>-41.202275</td><td>351.301735</td><td>-41.1988</td><td>10.232</td><td>1.3198</td><td>1.6304</td><td>2.1996e+44</td><td>7.9272e+42</td><td>8.1502e+42</td><td>8.6227e+44</td><td>3.3645e+43</td><td>3.5317e+43</td><td>500.0</td><td>0.0</td><td>0.0</td><td>39.184</td><td>1.0499</td><td>1.0499</td><td>351.30212</td><td>-41.198085</td><td>10.74</td><td>1.3183</td><td>1.3981</td><td>2.7024e+44</td><td>8.3254e+42</td><td>8.4088e+42</td><td>1.0791e+45</td><td>3.6375e+43</td><td>3.7064e+43</td><td>608.65</td><td>45.298</td><td>52.541</td><td>46.952</td><td>1.0673</td><td>1.0673</td><td>351.301715</td><td>-41.19738</td><td>12.806</td><td>1.8896</td><td>3.4193</td><td>3.6715e+44</td><td>1.4599e+43</td><td>1.1924e+43</td><td>1.5451e+45</td><td>4.9818e+43</td><td>1.0944e+44</td><td>1417.0</td><td>101.92</td><td>102.37</td><td>36.298</td><td>1.0141</td><td>1.0141</td><td>351.301715</td><td>-41.19738</td><td>14.306</td><td>3.587</td><td>4.0576</td><td>2.6172e+44</td><td>9.2068e+42</td><td>1.5676e+43</td><td>1.1718e+45</td><td>8.8361e+43</td><td>6.0071e+43</td><td>1417.0</td><td>101.92</td><td>102.37</td><td>27.973</td><td>1.0093</td><td>1.0093</td><td>N/A</td><td>0</td><td>0</td><td>N/A</td><td>N/A</td><td>0</td><td>0</td><td>0</td><td>0</td><td>0</td><td>0</td><td>0</td><td>0</td><td>0</td><td>0</td><td>N/A</td><td>yes</td><td>0</td><td>9999.0</td><td>9999.0</td><td>0</td><td>0</td><td>0</td><td>N/A</td><td>1</td><td>0</td><td>0</td><td>176.489013671875</td><td>4.7075419425964355</td><td>12.1381</td><td>9.4217</td><td>9.512227073934634</td><td>8.097245327152658</td><td>7.172577532251032</td><td>9.068740080280769</td><td>0.9246677949016258</td><td>0.9714947531281108</td><td>False</td></tr>\n",
       "<tr><td>catalogue_10</td><td>11</td><td>True</td><td>True</td><td>64.038119880676</td><td>-24.0674858811673</td><td>0.3907560408115387</td><td>10446, 16236, 16237, 16304, 16523, 17313</td><td>165.811</td><td>5.31168</td><td>5.31168</td><td>nan</td><td>nan</td><td>3.841e+44</td><td>1.8953e+42</td><td>1.8389e+42</td><td>64.039735</td><td>-24.067113</td><td>64.037418</td><td>-24.07118</td><td>10.33</td><td>0.30516</td><td>0.30678</td><td>3.6362e+44</td><td>2.6533e+42</td><td>2.572e+42</td><td>1.4376e+45</td><td>1.109e+43</td><td>1.1132e+43</td><td>500.0</td><td>0.0</td><td>0.0</td><td>202.85</td><td>1.0743</td><td>1.0743</td><td>64.037557</td><td>-24.071415</td><td>10.426</td><td>0.27833</td><td>0.27932</td><td>4.1214e+44</td><td>2.6736e+42</td><td>2.7415e+42</td><td>1.6355e+45</td><td>1.1372e+43</td><td>1.1636e+43</td><td>600.48</td><td>9.9991</td><td>9.9221</td><td>223.33</td><td>1.0861</td><td>1.0861</td><td>64.037695</td><td>-24.071227</td><td>10.195</td><td>0.38246</td><td>0.38252</td><td>4.9722e+44</td><td>3.7844e+42</td><td>3.8299e+42</td><td>1.9563e+45</td><td>1.9613e+43</td><td>1.9505e+43</td><td>1367.2</td><td>20.925</td><td>20.759</td><td>176.3</td><td>1.0244</td><td>1.0244</td><td>64.037695</td><td>-24.071227</td><td>9.8924</td><td>0.47735</td><td>0.53845</td><td>3.2147e+44</td><td>3.1674e+42</td><td>3.1394e+42</td><td>1.2444e+45</td><td>1.14e+43</td><td>2.4591e+43</td><td>1367.2</td><td>20.925</td><td>20.759</td><td>133.48</td><td>1.0164</td><td>1.0164</td><td>N/A</td><td>0</td><td>0</td><td>N/A</td><td>N/A</td><td>1</td><td>0</td><td>0</td><td>0</td><td>0</td><td>0</td><td>0</td><td>0</td><td>0</td><td>0</td><td>N/A</td><td>yes</td><td>0</td><td>9999.0</td><td>9999.0</td><td>0</td><td>0</td><td>1</td><td>peak and red agree but merger with multiple central-like galaxies</td><td>1</td><td>0</td><td>0</td><td>164.2545166015625</td><td>5.164122104644775</td><td>10.70532</td><td>10.14767</td><td>7.639494883049165</td><td>7.8778062764067345</td><td>7.682885924511928</td><td>8.073032787455945</td><td>0.1949203518948064</td><td>0.19522651104921085</td><td>False</td></tr>\n",
       "<tr><td>catalogue_13</td><td>15</td><td>True</td><td>True</td><td>342.237896837301</td><td>-44.5029824690987</td><td>0.34922555088996887</td><td>4966, 18611, 18818</td><td>160.7</td><td>6.59675</td><td>6.59675</td><td>nan</td><td>nan</td><td>1.4291e+45</td><td>4.8833e+42</td><td>4.6351e+42</td><td>342.186427</td><td>-44.529903</td><td>342.188097</td><td>-44.52869</td><td>12.409</td><td>0.30603</td><td>0.30667</td><td>1.4114e+45</td><td>6.821e+42</td><td>6.992e+42</td><td>5.9547e+45</td><td>3.0486e+43</td><td>3.1511e+43</td><td>500.0</td><td>0.0</td><td>0.0</td><td>299.83</td><td>1.0963</td><td>1.0963</td><td>342.187917</td><td>-44.528987</td><td>12.996</td><td>0.28442</td><td>0.28468</td><td>1.5972e+45</td><td>7.4194e+42</td><td>7.0999e+42</td><td>6.8369e+45</td><td>3.3198e+43</td><td>3.2656e+43</td><td>697.58</td><td>8.5397</td><td>12.847</td><td>325.75</td><td>1.1044</td><td>1.1044</td><td>342.18818</td><td>-44.52894</td><td>12.823</td><td>0.34842</td><td>0.34739</td><td>1.8957e+45</td><td>9.3799e+42</td><td>9.267e+42</td><td>8.0809e+45</td><td>4.9391e+43</td><td>4.7296e+43</td><td>1587.5</td><td>19.898</td><td>19.73</td><td>292.05</td><td>1.0599</td><td>1.0599</td><td>342.18818</td><td>-44.52894</td><td>14.829</td><td>0.52914</td><td>1.0309</td><td>8.3572e+44</td><td>9.1116e+42</td><td>5.3388e+42</td><td>3.7391e+45</td><td>2.9753e+43</td><td>5.2519e+43</td><td>1587.5</td><td>19.898</td><td>19.73</td><td>174.13</td><td>1.0347</td><td>1.0347</td><td>N/A</td><td>0</td><td>0</td><td>N/A</td><td>N/A</td><td>1</td><td>0</td><td>0</td><td>0</td><td>0</td><td>0</td><td>0</td><td>0</td><td>0</td><td>0</td><td>mispercolated, X-ray cluster found as lambda=5 cluster</td><td>yes</td><td>1</td><td>342.18318</td><td>-44.530803</td><td>4</td><td>0</td><td>0</td><td>mispercolated</td><td>1</td><td>0</td><td>0</td><td>188.08279418945312</td><td>8.768253326416016</td><td>13.28068</td><td>12.71158</td><td>9.524368598184768</td><td>9.660708632381445</td><td>9.464783420116085</td><td>9.856495126519883</td><td>0.19592521226535986</td><td>0.19578649413843863</td><td>False</td></tr>\n",
       "<tr><td>catalogue_17</td><td>19</td><td>True</td><td>True</td><td>10.2093771611501</td><td>-44.1313500454947</td><td>0.36071228981018066</td><td>13395</td><td>142.913</td><td>3.74835</td><td>3.74835</td><td>nan</td><td>nan</td><td>4.0099e+44</td><td>1.056e+43</td><td>1.0687e+43</td><td>10.20765</td><td>-44.12993</td><td>10.209</td><td>-44.13206</td><td>8.8222</td><td>1.0955</td><td>1.3207</td><td>3.934e+44</td><td>1.4595e+43</td><td>1.4736e+43</td><td>1.4509e+45</td><td>5.8653e+43</td><td>6.0689e+43</td><td>500.0</td><td>0.0</td><td>0.0</td><td>37.084</td><td>1.0774</td><td>1.0774</td><td>10.20889</td><td>-44.1322</td><td>8.0201</td><td>0.85287</td><td>1.0708</td><td>4.2241e+44</td><td>1.4757e+43</td><td>1.4957e+43</td><td>1.4943e+45</td><td>5.6187e+43</td><td>6.0261e+43</td><td>559.28</td><td>40.024</td><td>45.443</td><td>38.875</td><td>1.0888</td><td>1.0888</td><td>10.20839</td><td>-44.13227</td><td>8.8835</td><td>1.3747</td><td>1.93</td><td>4.8032e+44</td><td>1.9574e+43</td><td>1.9195e+43</td><td>1.7768e+45</td><td>9.2314e+43</td><td>1.0392e+44</td><td>1197.8</td><td>74.354</td><td>88.697</td><td>31.443</td><td>1.0274</td><td>1.0274</td><td>10.20839</td><td>-44.13227</td><td>7.6551</td><td>1.4253</td><td>2.1028</td><td>2.8225e+44</td><td>1.5005e+43</td><td>1.6315e+43</td><td>9.7641e+44</td><td>6.8016e+43</td><td>8.2099e+43</td><td>1197.8</td><td>74.354</td><td>88.697</td><td>20.323</td><td>1.0145</td><td>1.0145</td><td>N/A</td><td>0</td><td>0</td><td>N/A</td><td>N/A</td><td>0</td><td>0</td><td>0</td><td>0</td><td>0</td><td>0</td><td>0</td><td>0</td><td>0</td><td>0</td><td>N/A</td><td>yes</td><td>0</td><td>9999.0</td><td>9999.0</td><td>0</td><td>0</td><td>0</td><td>N/A</td><td>1</td><td>0</td><td>0</td><td>143.20265197753906</td><td>3.8135292530059814</td><td>9.0909</td><td>7.167229999999999</td><td>6.69208796611253</td><td>6.178843663058225</td><td>5.56795461326761</td><td>6.939092346295965</td><td>0.6108890497906145</td><td>0.76024868323774</td><td>False</td></tr>\n",
       "</table>"
      ],
      "text/plain": [
       "<Table length=5>\n",
       "    Name     MEM_MATCH_ID Analyzed ... r2500_temperature_err_high_scaled in_xmm\n",
       "  bytes15       int64       bool   ...              float64               bool \n",
       "------------ ------------ -------- ... --------------------------------- ------\n",
       " catalogue_5            6     True ...                0.2287574695381096  False\n",
       " catalogue_6            7     True ...                0.9714947531281108  False\n",
       "catalogue_10           11     True ...               0.19522651104921085  False\n",
       "catalogue_13           15     True ...               0.19578649413843863  False\n",
       "catalogue_17           19     True ...                  0.76024868323774  False"
      ]
     },
     "execution_count": 168,
     "metadata": {},
     "output_type": "execute_result"
    }
   ],
   "source": [
    "catalog_matcha13[0:5]"
   ]
  },
  {
   "cell_type": "code",
   "execution_count": null,
   "id": "2d57d6ca-ad74-421e-8311-4638cbfa5e55",
   "metadata": {},
   "outputs": [],
   "source": [
    "#for when one of the catalogs needs something to be scaled, otherwise skip. \n",
    "#if using CluStR to complete the scaling relation, remember to set the pivot point to 1 and change where ln is used to log 10\n",
    "\n",
    "#from the form: log10(Tx_chandra) = a*log10(Tx_xmm) + b. \n",
    "#some algebra:\n",
    "#10^(log10(Tx_xmm) = 10^((log10(Tx_chandra) - b)/a)\n",
    "#Tx_xmm = 10^((log10(Tx_Chandra) – b)/a))\n",
    "#final relation:\n",
    "#Tx_xmm = Tx Chandra Scaled = 10^((log10(TxChandra) – b)/a))... and here it is: \n",
    "\n",
    "#catalog_chandra[\"r2500_temperature_scaled\"] = 10**(((np.log10(catalog_chandra[\"r2500_temperature\"])-b)/a))\n",
    "\n",
    "#there are alternative ways to do this scaling relation. xmm was chosen as the y value (even though its more algebra), to compare to past papers where xmm was scaled instead of chandra. "
   ]
  },
  {
   "cell_type": "code",
   "execution_count": 169,
   "id": "70b8d0df-c62b-4078-8f05-7f2356a2e898",
   "metadata": {},
   "outputs": [
    {
     "data": {
      "text/html": [
       "<i>Table length=5</i>\n",
       "<table id=\"table140035222373088\" class=\"table-striped table-bordered table-condensed\">\n",
       "<thead><tr><th>XCS_NAMES_1</th><th>XCS_NAMES_2</th><th>col1</th><th>Unnamed: 0.1</th><th>RA</th><th>DEC</th><th>Redshift</th><th>lambda</th><th>lambda_err_low</th><th>R_LAMBDA</th><th>MEM_MATCH_ID</th><th>RA_CENT</th><th>DEC_CENT</th><th>ID_CENT</th><th>DEC_xmm</th><th>DISTANCE</th><th>EXP</th><th>ID</th><th>MEDIAN_EXP</th><th>OBSID</th><th>RA_xmm</th><th>WORST_EXP</th><th>WORST_MEDIAN_EXP</th><th>RA_ext</th><th>DEC_ext</th><th>P_DIS</th><th>COUNTS</th><th>Pk2RM</th><th>Pk2RM_kpc</th><th>Pk2RM2</th><th>Pk2RM2_kpc</th><th>RA_pk</th><th>DEC_pk</th><th>pnsn</th><th>pnsnr_alt</th><th>r2500_temperature_scaled</th><th>r2500_temperature_err_low_scaled</th><th>r2500_temperature_err_high_scaled</th><th>kT_err</th><th>Lx</th><th>Lx_m</th><th>Lx_p</th><th>Lx52</th><th>Lx52_m</th><th>Lx52_p</th><th>lambda_err_high</th></tr></thead>\n",
       "<thead><tr><th>str25</th><th>str24</th><th>int64</th><th>int64</th><th>float64</th><th>float64</th><th>float64</th><th>float64</th><th>float64</th><th>float64</th><th>int64</th><th>str89</th><th>str99</th><th>str49</th><th>float64</th><th>float64</th><th>float64</th><th>int64</th><th>float64</th><th>int64</th><th>float64</th><th>float64</th><th>float64</th><th>float64</th><th>float64</th><th>float64</th><th>float64</th><th>float64</th><th>float64</th><th>float64</th><th>float64</th><th>float64</th><th>float64</th><th>float64</th><th>float64</th><th>float64</th><th>float64</th><th>float64</th><th>float64</th><th>float64</th><th>float64</th><th>float64</th><th>float64</th><th>float64</th><th>float64</th><th>float64</th></tr></thead>\n",
       "<tr><td>XMMXCS J000235.8-020227.5</td><td>XMMXCSJ000235.8-020227.5</td><td>243</td><td>243</td><td>0.649614166660452</td><td>-2.03944174729577</td><td>0.39010683</td><td>24.808802</td><td>2.2613642</td><td>0.7566955</td><td>13751</td><td>0.649614166660452,0.647402604517322,0.650837133497822,0.655687554778573,0.660709660929633</td><td>-2.03944174729577,-2.03197828580954,-2.03145848443447,-2.04139022344033,-2.01694166950346</td><td>142501863,142502130,142502090,142502660,142501240</td><td>-2.0286111111111103</td><td>0.14756604290788675</td><td>27762.0146484375</td><td>13751</td><td>31515.4306640625</td><td>653290201</td><td>0.796875</td><td>26692.9775390625</td><td>27069.23095703125</td><td>0.64920033</td><td>-2.0409846000000003</td><td>30.425720743968988</td><td>680.99361</td><td>0.04458284358593551</td><td>14.153533136494243</td><td>0.04458284358593551</td><td>14.153533136494234</td><td>0.6499766469275086</td><td>-2.040090510689373</td><td>17.222</td><td>16.33</td><td>2.14291</td><td>0.1664257210000002</td><td>0.3757072909999999</td><td>0.12649458260029586</td><td>0.4179751767</td><td>0.027991681182347072</td><td>0.02890672672743194</td><td>0.1734770535</td><td>0.007915371603489152</td><td>0.010480165454349183</td><td>2.2613642</td></tr>\n",
       "<tr><td>XMMXCS J000400.2-355653.6</td><td>XMMXCSJ000400.2-355653.6</td><td>248</td><td>248</td><td>1.00104699302456</td><td>-35.9478493979938</td><td>0.51813245</td><td>27.447912</td><td>2.398124</td><td>0.77215034</td><td>15193</td><td>1.00104699302456,1.00496334329385,1.00006235952776,1.00220768606892,0.991459040649254</td><td>-35.9478493979938,-35.9721189810189,-35.9503624329606,-35.9714384684201,-35.9488692491967</td><td>142401587,142402656,142401775,142402605,142401731</td><td>-35.9550555555556</td><td>0.13696826958557765</td><td>44896.494140625</td><td>15193</td><td>46655.4189453125</td><td>145020201</td><td>0.832083333333333</td><td>37725.16796875</td><td>39750.76171875</td><td>1.0010573</td><td>-35.948244</td><td>8.83761472448519</td><td>1153.8677</td><td>0.13721923416480866</td><td>51.20854620553784</td><td>0.13721923416480866</td><td>51.208546205537864</td><td>1.002997438367125</td><td>-35.94950383602284</td><td>22.3303</td><td>20.8108</td><td>3.42241</td><td>0.2941954530000004</td><td>0.381135821</td><td>0.09866311663418473</td><td>1.075204042</td><td>0.06172810768921333</td><td>0.051566316665137</td><td>0.3778939892</td><td>0.014460817597852449</td><td>0.015481156442907651</td><td>2.398124</td></tr>\n",
       "<tr><td>XMMXCS J001737.5-005234.2</td><td>XMMXCSJ001737.5-005234.2</td><td>73</td><td>73</td><td>4.40665775875568</td><td>-0.8782889047076321</td><td>0.20821463</td><td>61.80211600000001</td><td>2.7435331</td><td>0.9082401</td><td>500</td><td>4.40665775875568,4.4036478772821,4.41369820128273,4.43197222196143,4.42113577173195</td><td>-0.878288904707632,-0.853717099179728,-0.870237504031457,-0.867241148525203,-0.872233093568332</td><td>189078380,189077757,189078763,189078751,189078964</td><td>-0.923666666666667</td><td>0.07715508173656564</td><td>51380.166015625</td><td>500</td><td>51384.4873046875</td><td>403760701</td><td>4.34425</td><td>33254.130859375</td><td>40512.3388671875</td><td>4.4063253</td><td>-0.87619162</td><td>26.028173154787265</td><td>12189.1</td><td>0.07743152147596767</td><td>15.818489529702676</td><td>0.07743152147596767</td><td>15.818489529702742</td><td>4.406493390460635</td><td>-0.8795689223325999</td><td>55.7922</td><td>52.5696</td><td>4.17565</td><td>0.10585596800000019</td><td>0.10677553100000026</td><td>0.02546088620933273</td><td>1.770299475</td><td>0.02862182248558387</td><td>0.02736854278286338</td><td>0.5694802411</td><td>0.005413722467445425</td><td>0.005881083050004232</td><td>2.7435331</td></tr>\n",
       "<tr><td>XMMXCS J001938.0+033635.3</td><td>XMMXCSJ001938.0-033635.3</td><td>9</td><td>9</td><td>4.91105595050762</td><td>3.59932929627596</td><td>0.27425575</td><td>139.48044</td><td>4.365691</td><td>1.0688154</td><td>17</td><td>4.91105595050762,4.90685473048909,4.90917120339313,4.90346134559408,4.90720740015353</td><td>3.59932929627596,3.6302137316629,3.60703825786776,3.62043694963565,3.6294193326428</td><td>143999329,143998825,144000405,143999694,143998953</td><td>3.62888888888889</td><td>0.041495948958367695</td><td>57541.447265625</td><td>17</td><td>66652.734375</td><td>693010301</td><td>4.881875</td><td>56180.8046875</td><td>57458.4189453125</td><td>4.9083898</td><td>3.6098177000000002</td><td>162.90251264384614</td><td>58596.613</td><td>0.3775585070541489</td><td>94.73417637364768</td><td>0.3775585070541489</td><td>94.73417637364797</td><td>4.909123355579328</td><td>3.6053190510251065</td><td>106.246</td><td>99.3671</td><td>6.79351</td><td>0.0854978880000008</td><td>0.15795316999999987</td><td>0.01791791415630511</td><td>14.07220846</td><td>0.10561611126274606</td><td>0.11021468486474184</td><td>3.525604208</td><td>0.014009824121890002</td><td>0.014984539787388673</td><td>4.365691</td></tr>\n",
       "<tr><td>XMMXCS J003426.9+022523.1</td><td>XMMXCSJ003426.9-022523.1</td><td>54</td><td>54</td><td>8.617306115181039</td><td>2.42297542109954</td><td>0.39933878</td><td>100.22939</td><td>5.156016</td><td>1.0004584</td><td>225</td><td>8.61730611518104,8.59970713293835,8.60820711481422,8.61788284582858,8.61606528000696</td><td>2.42297542109954,2.42787903634968,2.42368570515617,2.42484257874229,2.43115426148755</td><td>149433688,149433437,149433860,149433803,149433508</td><td>2.4046111111111097</td><td>0.02969840521181868</td><td>8515.85986328125</td><td>225</td><td>8782.978271484375</td><td>650380501</td><td>8.64066666666667</td><td>8143.255615234375</td><td>8152.537109375</td><td>8.6122306</td><td>2.4231047</td><td>98.01873607348259</td><td>4203.6381</td><td>0.23603755945502114</td><td>76.01621064465722</td><td>0.23603755945502114</td><td>76.01621064465772</td><td>8.613461797305439</td><td>2.4221247386307145</td><td>28.6338</td><td>26.816</td><td>6.15498</td><td>0.4393842809999997</td><td>0.44781691000000023</td><td>0.07207181753636892</td><td>15.15213221</td><td>0.6839854826560412</td><td>0.5750398774703829</td><td>4.01056185</td><td>0.08875946543654978</td><td>0.08950954748167916</td><td>5.156016</td></tr>\n",
       "</table>"
      ],
      "text/plain": [
       "<Table length=5>\n",
       "       XCS_NAMES_1              XCS_NAMES_2        ... lambda_err_high\n",
       "          str25                    str24           ...     float64    \n",
       "------------------------- ------------------------ ... ---------------\n",
       "XMMXCS J000235.8-020227.5 XMMXCSJ000235.8-020227.5 ...       2.2613642\n",
       "XMMXCS J000400.2-355653.6 XMMXCSJ000400.2-355653.6 ...        2.398124\n",
       "XMMXCS J001737.5-005234.2 XMMXCSJ001737.5-005234.2 ...       2.7435331\n",
       "XMMXCS J001938.0+033635.3 XMMXCSJ001938.0-033635.3 ...        4.365691\n",
       "XMMXCS J003426.9+022523.1 XMMXCSJ003426.9-022523.1 ...        5.156016"
      ]
     },
     "execution_count": 169,
     "metadata": {},
     "output_type": "execute_result"
    }
   ],
   "source": [
    "#choose a naming convention from one of the catalogs and rename all of the columns to match. All columns you want included in the final catalog need to have the same name in each catalog. \n",
    "catalog_xmm[0:5]\n",
    "catalog_xmm.rename_column('kT','r2500_temperature')\n",
    "catalog_xmm['Z_1'].name = \"Redshift\"\n",
    "catalog_xmm['LAMBDA_CHISQ'].name = \"lambda\"\n",
    "catalog_xmm['LAMBDA_CHISQ_E'].name = \"lambda_err_low\"\n",
    "catalog_xmm['LAMBDA_CHISQ_E1'].name = \"lambda_err_high\"\n",
    "catalog_xmm['kT_p'].name = \"r2500_temperature_err_high_scaled\"\n",
    "catalog_xmm['kT_m'].name = \"r2500_temperature_err_low_scaled\"\n",
    "catalog_xmm[0:5]"
   ]
  },
  {
   "cell_type": "code",
   "execution_count": 171,
   "id": "ce300f89-01ae-495c-b4d8-dd69e5a3ad30",
   "metadata": {},
   "outputs": [
    {
     "name": "stdout",
     "output_type": "stream",
     "text": [
      "The number of columns for `catalog_matcha_detected` are 8\n",
      "The number of rows are 225.\n",
      "The number of rows are 225.\n"
     ]
    },
    {
     "data": {
      "text/html": [
       "<i>Table length=5</i>\n",
       "<table id=\"table140035216358992\" class=\"table-striped table-bordered table-condensed\">\n",
       "<thead><tr><th>Redshift</th><th>lambda</th><th>lambda_err_low</th><th>MEM_MATCH_ID</th><th>r2500_temperature_scaled</th><th>r2500_temperature_err_low_scaled</th><th>r2500_temperature_err_high_scaled</th><th>lambda_err_high</th></tr></thead>\n",
       "<thead><tr><th>float64</th><th>float64</th><th>float64</th><th>int64</th><th>float64</th><th>float64</th><th>float64</th><th>float64</th></tr></thead>\n",
       "<tr><td>0.39010683</td><td>24.808802</td><td>2.2613642</td><td>13751</td><td>2.14291</td><td>0.1664257210000002</td><td>0.3757072909999999</td><td>2.2613642</td></tr>\n",
       "<tr><td>0.51813245</td><td>27.447912</td><td>2.398124</td><td>15193</td><td>3.42241</td><td>0.2941954530000004</td><td>0.381135821</td><td>2.398124</td></tr>\n",
       "<tr><td>0.20821463</td><td>61.80211600000001</td><td>2.7435331</td><td>500</td><td>4.17565</td><td>0.10585596800000019</td><td>0.10677553100000026</td><td>2.7435331</td></tr>\n",
       "<tr><td>0.27425575</td><td>139.48044</td><td>4.365691</td><td>17</td><td>6.79351</td><td>0.0854978880000008</td><td>0.15795316999999987</td><td>4.365691</td></tr>\n",
       "<tr><td>0.39933878</td><td>100.22939</td><td>5.156016</td><td>225</td><td>6.15498</td><td>0.4393842809999997</td><td>0.44781691000000023</td><td>5.156016</td></tr>\n",
       "</table>"
      ],
      "text/plain": [
       "<Table length=5>\n",
       " Redshift        lambda      ... lambda_err_high\n",
       " float64        float64      ...     float64    \n",
       "---------- ----------------- ... ---------------\n",
       "0.39010683         24.808802 ...       2.2613642\n",
       "0.51813245         27.447912 ...        2.398124\n",
       "0.20821463 61.80211600000001 ...       2.7435331\n",
       "0.27425575         139.48044 ...        4.365691\n",
       "0.39933878         100.22939 ...        5.156016"
      ]
     },
     "execution_count": 171,
     "metadata": {},
     "output_type": "execute_result"
    }
   ],
   "source": [
    "#create an empty table. \n",
    "\n",
    "catalog_xmm_matcha = Table()\n",
    "\n",
    "#use vstack to combine the catalogs. \n",
    "catalog_xmm_matcha = vstack([catalog_xmm, catalog_matcha13],join_type='inner')\n",
    "\n",
    "print(f\"The number of columns for `catalog_matcha_detected` are {len(catalog_xmm_matcha.colnames)}\")\n",
    "print(f\"The number of rows are {len(catalog_xmm_matcha)}.\")\n",
    "\n",
    "#display table\n",
    "catalog_xmm_matcha[0:20]\n"
   ]
  },
  {
   "cell_type": "code",
   "execution_count": 174,
   "id": "67db3fdb-2933-47eb-8cf4-79f8fb070ed7",
   "metadata": {},
   "outputs": [],
   "source": [
    "#save catalog. \n",
    "#if doing csv instead, remember to change the format to \"csc\"\n",
    "catalog_xmm_matcha.write(\"matcha_xmm_joint_scaled_temp_err_no_repeat_r2500_v2.fits\", format=\"fits\")"
   ]
  },
  {
   "cell_type": "code",
   "execution_count": 173,
   "id": "842fc8b6-46a6-44f7-84f1-7b33e6947c66",
   "metadata": {},
   "outputs": [
    {
     "data": {
      "text/html": [
       "<i>Table length=20</i>\n",
       "<table id=\"table140035216355920\" class=\"table-striped table-bordered table-condensed\">\n",
       "<thead><tr><th>Redshift</th><th>lambda</th><th>lambda_err_low</th><th>MEM_MATCH_ID</th><th>r2500_temperature_scaled</th><th>r2500_temperature_err_low_scaled</th><th>r2500_temperature_err_high_scaled</th><th>lambda_err_high</th></tr></thead>\n",
       "<thead><tr><th>float64</th><th>float64</th><th>float64</th><th>int64</th><th>float64</th><th>float64</th><th>float64</th><th>float64</th></tr></thead>\n",
       "<tr><td>0.39010683</td><td>24.808802</td><td>2.2613642</td><td>13751</td><td>2.14291</td><td>0.1664257210000002</td><td>0.3757072909999999</td><td>2.2613642</td></tr>\n",
       "<tr><td>0.51813245</td><td>27.447912</td><td>2.398124</td><td>15193</td><td>3.42241</td><td>0.2941954530000004</td><td>0.381135821</td><td>2.398124</td></tr>\n",
       "<tr><td>0.20821463</td><td>61.80211600000001</td><td>2.7435331</td><td>500</td><td>4.17565</td><td>0.10585596800000019</td><td>0.10677553100000026</td><td>2.7435331</td></tr>\n",
       "<tr><td>0.27425575</td><td>139.48044</td><td>4.365691</td><td>17</td><td>6.79351</td><td>0.0854978880000008</td><td>0.15795316999999987</td><td>4.365691</td></tr>\n",
       "<tr><td>0.39933878</td><td>100.22939</td><td>5.156016</td><td>225</td><td>6.15498</td><td>0.4393842809999997</td><td>0.44781691000000023</td><td>5.156016</td></tr>\n",
       "<tr><td>0.3838058</td><td>98.780174</td><td>3.8079417</td><td>166</td><td>5.89563</td><td>0.2946439009999997</td><td>0.29944346900000074</td><td>3.8079417</td></tr>\n",
       "<tr><td>0.62684613</td><td>20.873018</td><td>2.2952025</td><td>37794</td><td>2.6213</td><td>0.3501865820000001</td><td>0.34026748799999984</td><td>2.2952025</td></tr>\n",
       "<tr><td>0.40607405</td><td>25.281706</td><td>2.3174372</td><td>19762</td><td>2.85735</td><td>0.35722818899999975</td><td>0.6033601540000002</td><td>2.3174372</td></tr>\n",
       "<tr><td>0.55846506</td><td>25.083391</td><td>2.8836865</td><td>9805</td><td>1.4697</td><td>0.28926382900000003</td><td>0.8466204820000001</td><td>2.8836865</td></tr>\n",
       "<tr><td>0.5302686</td><td>111.548584</td><td>5.369123</td><td>84</td><td>8.20404</td><td>0.29793284000000053</td><td>0.30046633399999934</td><td>5.369123</td></tr>\n",
       "<tr><td>0.33522174</td><td>27.066538</td><td>2.1282694</td><td>11650</td><td>2.40029</td><td>0.26702615399999985</td><td>0.32101216</td><td>2.1282694</td></tr>\n",
       "<tr><td>0.42440286</td><td>41.97065</td><td>2.9322848</td><td>3927</td><td>3.32847</td><td>0.21714812699999975</td><td>0.30243576400000016</td><td>2.9322848</td></tr>\n",
       "<tr><td>0.5434566999999999</td><td>21.467962</td><td>2.445238</td><td>27324</td><td>2.98597</td><td>0.793959305</td><td>1.4108523569999996</td><td>2.445238</td></tr>\n",
       "<tr><td>0.22559063</td><td>106.95684</td><td>6.1778603</td><td>192</td><td>5.86469</td><td>0.10435115800000005</td><td>0.10489109999999968</td><td>6.1778603</td></tr>\n",
       "<tr><td>0.31767246</td><td>32.192207</td><td>2.9567134</td><td>9704</td><td>1.31788</td><td>0.13534986000000004</td><td>0.2071908520000001</td><td>2.9567134</td></tr>\n",
       "<tr><td>0.38069093</td><td>58.262962</td><td>3.722497</td><td>1596</td><td>3.71997</td><td>1.4518032879999998</td><td>2.5996542399999996</td><td>3.722497</td></tr>\n",
       "<tr><td>0.25319734</td><td>49.27778</td><td>2.6430283</td><td>1839</td><td>2.96053</td><td>0.029009840000000064</td><td>0.02933864700000033</td><td>2.6430283</td></tr>\n",
       "<tr><td>0.3877851</td><td>43.5114</td><td>2.7871141</td><td>2849</td><td>3.12769</td><td>0.560855675</td><td>0.7715286080000001</td><td>2.7871141</td></tr>\n",
       "<tr><td>0.35954040000000004</td><td>31.810835</td><td>2.6784306</td><td>11304</td><td>2.50648</td><td>0.310698189</td><td>0.36123180600000016</td><td>2.6784306</td></tr>\n",
       "<tr><td>0.37619162</td><td>75.30276500000002</td><td>4.360306</td><td>1057</td><td>7.01914</td><td>0.36134414500000034</td><td>0.41960243299999966</td><td>4.360306</td></tr>\n",
       "</table>"
      ],
      "text/plain": [
       "<Table length=20>\n",
       "      Redshift            lambda      ... lambda_err_high\n",
       "      float64            float64      ...     float64    \n",
       "------------------- ----------------- ... ---------------\n",
       "         0.39010683         24.808802 ...       2.2613642\n",
       "         0.51813245         27.447912 ...        2.398124\n",
       "         0.20821463 61.80211600000001 ...       2.7435331\n",
       "         0.27425575         139.48044 ...        4.365691\n",
       "         0.39933878         100.22939 ...        5.156016\n",
       "          0.3838058         98.780174 ...       3.8079417\n",
       "         0.62684613         20.873018 ...       2.2952025\n",
       "         0.40607405         25.281706 ...       2.3174372\n",
       "         0.55846506         25.083391 ...       2.8836865\n",
       "          0.5302686        111.548584 ...        5.369123\n",
       "         0.33522174         27.066538 ...       2.1282694\n",
       "         0.42440286          41.97065 ...       2.9322848\n",
       " 0.5434566999999999         21.467962 ...        2.445238\n",
       "         0.22559063         106.95684 ...       6.1778603\n",
       "         0.31767246         32.192207 ...       2.9567134\n",
       "         0.38069093         58.262962 ...        3.722497\n",
       "         0.25319734          49.27778 ...       2.6430283\n",
       "          0.3877851           43.5114 ...       2.7871141\n",
       "0.35954040000000004         31.810835 ...       2.6784306\n",
       "         0.37619162 75.30276500000002 ...        4.360306"
      ]
     },
     "execution_count": 173,
     "metadata": {},
     "output_type": "execute_result"
    }
   ],
   "source": [
    "catalog_xmm_matcha[0:20]"
   ]
  }
 ],
 "metadata": {
  "kernelspec": {
   "display_name": "Python 3",
   "language": "python",
   "name": "python3"
  },
  "language_info": {
   "codemirror_mode": {
    "name": "ipython",
    "version": 3
   },
   "file_extension": ".py",
   "mimetype": "text/x-python",
   "name": "python",
   "nbconvert_exporter": "python",
   "pygments_lexer": "ipython3",
   "version": "3.8.10"
  }
 },
 "nbformat": 4,
 "nbformat_minor": 5
}
